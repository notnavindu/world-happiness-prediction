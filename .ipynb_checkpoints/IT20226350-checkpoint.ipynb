{
 "cells": [
  {
   "cell_type": "markdown",
   "id": "1b5435c8",
   "metadata": {},
   "source": [
    "# World Happiness Report"
   ]
  },
  {
   "cell_type": "markdown",
   "id": "db2aa9ed",
   "metadata": {},
   "source": [
    "Happiness Prediction Deep Learning Solution"
   ]
  },
  {
   "cell_type": "code",
   "execution_count": 1,
   "id": "31cca4e1",
   "metadata": {},
   "outputs": [],
   "source": [
    "import torch\n",
    "import torch.nn as nn\n",
    "import torch.optim as optim\n",
    "import numpy as np # linear algebra\n",
    "import pandas as pd # data processing, CSV file I/O (e.g. pd.read_csv)\n",
    "from sklearn.model_selection import train_test_split\n",
    "from sklearn.preprocessing import StandardScaler\n",
    "from sklearn.metrics import mean_squared_error\n",
    "from sklearn.preprocessing import MinMaxScaler\n",
    "import os"
   ]
  },
  {
   "cell_type": "markdown",
   "id": "18d80ef0",
   "metadata": {},
   "source": [
    "## Create Column Mappings & Initialize Variables"
   ]
  },
  {
   "cell_type": "code",
   "execution_count": 2,
   "id": "f55713a2",
   "metadata": {},
   "outputs": [],
   "source": [
    "data_frames = []\n",
    "common_columns = ['country', 'rank', 'score', 'gdp', 'family', 'health', 'freedom', 'corruption', 'generosity']\n",
    "column_mapping = {\n",
    "    '2015': {\n",
    "        'Country': 'country',\n",
    "        'Happiness Rank': 'rank',\n",
    "        'Happiness Score': 'score',\n",
    "        'Economy (GDP per Capita)': 'gdp',\n",
    "        'Family': 'family',\n",
    "        'Health (Life Expectancy)': 'health',\n",
    "        'Freedom': 'freedom',\n",
    "        'Trust (Government Corruption)': 'corruption',\n",
    "        'Generosity': 'generosity'\n",
    "    },\n",
    "    '2016': {\n",
    "        'Country': 'country',\n",
    "        'Happiness Rank': 'rank',\n",
    "        'Happiness Score': 'score',\n",
    "        'Economy (GDP per Capita)': 'gdp',\n",
    "        'Family': 'family',\n",
    "        'Health (Life Expectancy)': 'health',\n",
    "        'Freedom': 'freedom',\n",
    "        'Trust (Government Corruption)': 'corruption',\n",
    "        'Generosity': 'generosity'\n",
    "    },\n",
    "    '2017': {\n",
    "        'Country':'country',\n",
    "        'Happiness.Rank':'rank',\n",
    "        'Happiness.Score':'score',\n",
    "        'Economy..GDP.per.Capita.':'gdp',\n",
    "        'Family':'family',\n",
    "        'Health..Life.Expectancy.':'health',\n",
    "        'Freedom':'freedom',\n",
    "        'Generosity':'generosity',\n",
    "        'Trust..Government.Corruption.':'corruption'\n",
    "    },\n",
    "    '2018': {\n",
    "        'Country or region':'country',\n",
    "        'Overall rank':'rank',\n",
    "        'Score':'score',\n",
    "        'GDP per capita':'gdp',\n",
    "        'Social support':'family',\n",
    "        'Healthy life expectancy':'health',\n",
    "        'Freedom to make life choices':'freedom',\n",
    "        'Generosity':'generosity',\n",
    "        'Perceptions of corruption':'corruption'\n",
    "    },\n",
    "     '2019': {\n",
    "        'Country or region':'country',\n",
    "        'Overall rank':'rank',\n",
    "        'Score':'score',\n",
    "        'GDP per capita':'gdp',\n",
    "        'Social support':'family',\n",
    "        'Healthy life expectancy':'health',\n",
    "        'Freedom to make life choices':'freedom',\n",
    "        'Generosity':'generosity',\n",
    "        'Perceptions of corruption':'corruption'\n",
    "    }\n",
    "} \n",
    "\n",
    "years = ['2015', '2016','2017','2018','2019']"
   ]
  },
  {
   "cell_type": "markdown",
   "id": "dd450bda",
   "metadata": {},
   "source": [
    "## Import Datasets and Map Columns"
   ]
  },
  {
   "cell_type": "code",
   "execution_count": 3,
   "id": "e8fc8ddb",
   "metadata": {},
   "outputs": [
    {
     "name": "stdout",
     "output_type": "stream",
     "text": [
      "['country', 'rank', 'score', 'gdp', 'family', 'health', 'freedom', 'corruption', 'generosity']\n",
      "['country', 'rank', 'score', 'gdp', 'family', 'health', 'freedom', 'corruption', 'generosity']\n",
      "['country', 'rank', 'score', 'gdp', 'family', 'health', 'freedom', 'corruption', 'generosity']\n",
      "['country', 'rank', 'score', 'gdp', 'family', 'health', 'freedom', 'corruption', 'generosity']\n",
      "['country', 'rank', 'score', 'gdp', 'family', 'health', 'freedom', 'corruption', 'generosity']\n"
     ]
    }
   ],
   "source": [
    "for year in years:\n",
    "    file_path = f'./dataset/{year}.csv'\n",
    "    df = pd.read_csv(file_path)\n",
    "    \n",
    "    # Rename columns to common names\n",
    "    df.rename(columns=column_mapping[year], inplace=True)\n",
    "    \n",
    "    df = df[common_columns]\n",
    "    \n",
    "    print(list(df.head()))\n",
    "    \n",
    "    data_frames.append(df)"
   ]
  },
  {
   "cell_type": "markdown",
   "id": "33a0ceac",
   "metadata": {},
   "source": [
    "## Merge Data"
   ]
  },
  {
   "cell_type": "code",
   "execution_count": 5,
   "id": "17c4d051",
   "metadata": {},
   "outputs": [
    {
     "name": "stdout",
     "output_type": "stream",
     "text": [
      "<class 'pandas.core.frame.DataFrame'>\n",
      "RangeIndex: 782 entries, 0 to 781\n",
      "Data columns (total 9 columns):\n",
      " #   Column      Non-Null Count  Dtype  \n",
      "---  ------      --------------  -----  \n",
      " 0   country     782 non-null    object \n",
      " 1   rank        782 non-null    int64  \n",
      " 2   score       782 non-null    float64\n",
      " 3   gdp         782 non-null    float64\n",
      " 4   family      782 non-null    float64\n",
      " 5   health      782 non-null    float64\n",
      " 6   freedom     782 non-null    float64\n",
      " 7   corruption  781 non-null    float64\n",
      " 8   generosity  782 non-null    float64\n",
      "dtypes: float64(7), int64(1), object(1)\n",
      "memory usage: 55.1+ KB\n",
      "None\n",
      "<class 'pandas.core.frame.DataFrame'>\n",
      "Int64Index: 781 entries, 0 to 781\n",
      "Data columns (total 9 columns):\n",
      " #   Column      Non-Null Count  Dtype  \n",
      "---  ------      --------------  -----  \n",
      " 0   country     781 non-null    object \n",
      " 1   rank        781 non-null    int64  \n",
      " 2   score       781 non-null    float64\n",
      " 3   gdp         781 non-null    float64\n",
      " 4   family      781 non-null    float64\n",
      " 5   health      781 non-null    float64\n",
      " 6   freedom     781 non-null    float64\n",
      " 7   corruption  781 non-null    float64\n",
      " 8   generosity  781 non-null    float64\n",
      "dtypes: float64(7), int64(1), object(1)\n",
      "memory usage: 61.0+ KB\n",
      "None\n"
     ]
    }
   ],
   "source": [
    "merged_data = pd.concat(data_frames, ignore_index=True)\n",
    "print(merged_data.info())\n",
    "merged_data = merged_data.dropna()\n",
    "print(merged_data.info())"
   ]
  },
  {
   "cell_type": "markdown",
   "id": "d321ff79",
   "metadata": {},
   "source": [
    "## Define Target and Training Columns"
   ]
  },
  {
   "cell_type": "code",
   "execution_count": null,
   "id": "b1c68a47",
   "metadata": {},
   "outputs": [],
   "source": [
    "target_column = 'score'\n",
    "\n",
    "predictor_columns = [ 'gdp', 'family', 'health', 'freedom', 'generosity', 'corruption']"
   ]
  },
  {
   "cell_type": "markdown",
   "id": "90efb69b",
   "metadata": {},
   "source": [
    "## Split the data"
   ]
  },
  {
   "cell_type": "code",
   "execution_count": null,
   "id": "dddd453c",
   "metadata": {},
   "outputs": [],
   "source": [
    "# Split the data into training and testing sets\n",
    "X = merged_data[predictor_columns].values\n",
    "y = merged_data[target_column].values\n",
    "X_train, X_test, y_train, y_test = train_test_split(X, y, test_size=0.2, random_state=42)"
   ]
  },
  {
   "cell_type": "markdown",
   "id": "becef08b",
   "metadata": {},
   "source": [
    "# Creating the model"
   ]
  }
 ],
 "metadata": {
  "kernelspec": {
   "display_name": "Python 3 (ipykernel)",
   "language": "python",
   "name": "python3"
  },
  "language_info": {
   "codemirror_mode": {
    "name": "ipython",
    "version": 3
   },
   "file_extension": ".py",
   "mimetype": "text/x-python",
   "name": "python",
   "nbconvert_exporter": "python",
   "pygments_lexer": "ipython3",
   "version": "3.9.12"
  }
 },
 "nbformat": 4,
 "nbformat_minor": 5
}
